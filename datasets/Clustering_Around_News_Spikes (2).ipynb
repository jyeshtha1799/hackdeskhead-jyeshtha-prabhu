{
  "nbformat": 4,
  "nbformat_minor": 0,
  "metadata": {
    "colab": {
      "provenance": [],
      "toc_visible": true
    },
    "kernelspec": {
      "name": "python3",
      "display_name": "Python 3"
    },
    "language_info": {
      "name": "python"
    }
  },
  "cells": [
    {
      "cell_type": "code",
      "execution_count": null,
      "metadata": {
        "id": "r-qUNlir-d_q"
      },
      "outputs": [],
      "source": [
        "import pandas as pd\n",
        "import numpy as np"
      ]
    },
    {
      "cell_type": "code",
      "source": [
        "from sklearn.feature_extraction.text import TfidfVectorizer\n",
        "import nltk\n",
        "from nltk.corpus import stopwords\n",
        "from nltk.tokenize import word_tokenize"
      ],
      "metadata": {
        "id": "hgXI5z5cAgMX"
      },
      "execution_count": null,
      "outputs": []
    },
    {
      "cell_type": "code",
      "source": [
        "def detect_spikes(df, column='price_change', threshold=2):\n",
        "    mean = df[column].mean()\n",
        "    std = df[column].std()\n",
        "    print(f\"Mean of {column}: {mean}\")\n",
        "    print(f\"Standard deviation of {column}: {std}\")\n",
        "\n",
        "    df['z_score'] = (df[column] - mean) / std\n",
        "    df['is_spike'] = df['z_score'].abs() > threshold\n",
        "\n",
        "    print(f\"Number of rows where is_spike is True: {df['is_spike'].sum()}\")\n",
        "    print(f\"Number of rows where is_spike is False: {(~df['is_spike']).sum()}\")\n",
        "\n",
        "    return df\n"
      ],
      "metadata": {
        "id": "RZci4Xvz-xby"
      },
      "execution_count": null,
      "outputs": []
    },
    {
      "cell_type": "code",
      "source": [
        "\n",
        "# Load the data\n",
        "df = pd.read_csv('AAPL_Events_and_News_Data.csv')\n"
      ],
      "metadata": {
        "id": "5GAutqYD-2be"
      },
      "execution_count": null,
      "outputs": []
    },
    {
      "cell_type": "code",
      "source": [
        "print(\"Original dataframe shape:\", df.shape)\n",
        "print(\"\\nFirst few rows of the original dataframe:\")\n",
        "print(df.head())"
      ],
      "metadata": {
        "colab": {
          "base_uri": "https://localhost:8080/"
        },
        "id": "Kk3_zmHW-5Gr",
        "outputId": "e5073cd9-81da-4e42-c67f-ded0ceb58cbf"
      },
      "execution_count": null,
      "outputs": [
        {
          "output_type": "stream",
          "name": "stdout",
          "text": [
            "Original dataframe shape: (250, 10)\n",
            "\n",
            "First few rows of the original dataframe:\n",
            "  ticker  event_date  price_change spike   news_date  \\\n",
            "0   AAPL  2023-01-13           3.7   yes  2023-01-12   \n",
            "1   AAPL  2021-03-03          -4.5   yes  2021-03-02   \n",
            "2   AAPL  2021-04-13          -4.2   yes  2021-04-12   \n",
            "3   AAPL  2022-05-02           0.8    no  2022-05-01   \n",
            "4   AAPL  2022-04-11          -0.7    no  2022-04-10   \n",
            "\n",
            "                                            headline  \\\n",
            "0          Apple Announces Stock Split (Simulated 1)   \n",
            "1  Apple Secures Major Government Contract (Simul...   \n",
            "2          Apple Announces Stock Split (Simulated 3)   \n",
            "3      Apple Introduces New AI Feature (Simulated 4)   \n",
            "4      Apple Introduces New AI Feature (Simulated 5)   \n",
            "\n",
            "                                             content sentiment  \\\n",
            "0  Apple announces a 4-for-1 stock split, making ...   neutral   \n",
            "1  Apple has won a multi-million dollar contract ...  positive   \n",
            "2  Apple announces a 4-for-1 stock split, making ...   neutral   \n",
            "3  Apple's new AI-driven features for Siri have i...  positive   \n",
            "4  Apple's new AI-driven features for Siri have i...  positive   \n",
            "\n",
            "                                    keywords  entity_count  \n",
            "0                        stock split, shares             2  \n",
            "1  government contract, multi-million dollar             3  \n",
            "2                        stock split, shares             2  \n",
            "3                      AI, Siri, new feature             4  \n",
            "4                      AI, Siri, new feature             4  \n"
          ]
        }
      ]
    },
    {
      "cell_type": "code",
      "source": [
        "print(\"\\nData types of the columns:\")\n",
        "print(df.dtypes)\n",
        "\n",
        "print(\"\\nChecking for missing values:\")\n",
        "print(df.isnull().sum())"
      ],
      "metadata": {
        "colab": {
          "base_uri": "https://localhost:8080/"
        },
        "id": "2w6gxgPd-8ZV",
        "outputId": "8837d31d-e27a-4afe-f7ce-382d0b03c645"
      },
      "execution_count": null,
      "outputs": [
        {
          "output_type": "stream",
          "name": "stdout",
          "text": [
            "\n",
            "Data types of the columns:\n",
            "ticker           object\n",
            "event_date       object\n",
            "price_change    float64\n",
            "spike            object\n",
            "news_date        object\n",
            "headline         object\n",
            "content          object\n",
            "sentiment        object\n",
            "keywords         object\n",
            "entity_count      int64\n",
            "dtype: object\n",
            "\n",
            "Checking for missing values:\n",
            "ticker          0\n",
            "event_date      0\n",
            "price_change    0\n",
            "spike           0\n",
            "news_date       0\n",
            "headline        0\n",
            "content         0\n",
            "sentiment       0\n",
            "keywords        0\n",
            "entity_count    0\n",
            "dtype: int64\n"
          ]
        }
      ]
    },
    {
      "cell_type": "code",
      "source": [
        "# Detect spikes\n",
        "df = detect_spikes(df, threshold=1.5)"
      ],
      "metadata": {
        "colab": {
          "base_uri": "https://localhost:8080/"
        },
        "id": "RAgKFDoB_DA1",
        "outputId": "43848f52-77fa-41db-e946-361815870b4f"
      },
      "execution_count": null,
      "outputs": [
        {
          "output_type": "stream",
          "name": "stdout",
          "text": [
            "Mean of price_change: 0.9448\n",
            "Standard deviation of price_change: 3.507924614412574\n",
            "Number of rows where is_spike is True: 23\n",
            "Number of rows where is_spike is False: 227\n"
          ]
        }
      ]
    },
    {
      "cell_type": "code",
      "source": [
        "print(\"\\nDataframe after spike detection:\")\n",
        "print(df[['event_date', 'price_change', 'z_score', 'is_spike']].head(10))"
      ],
      "metadata": {
        "colab": {
          "base_uri": "https://localhost:8080/"
        },
        "id": "HsVZn2A2_ETG",
        "outputId": "24b3cea8-0cc0-4fe1-946c-5e6889d2803d"
      },
      "execution_count": null,
      "outputs": [
        {
          "output_type": "stream",
          "name": "stdout",
          "text": [
            "\n",
            "Dataframe after spike detection:\n",
            "   event_date  price_change   z_score  is_spike\n",
            "0  2023-01-13           3.7  0.785422     False\n",
            "1  2021-03-03          -4.5 -1.552143      True\n",
            "2  2021-04-13          -4.2 -1.466622     False\n",
            "3  2022-05-02           0.8 -0.041278     False\n",
            "4  2022-04-11          -0.7 -0.468881     False\n",
            "5  2021-04-13          -0.5 -0.411867     False\n",
            "6  2021-12-23          -2.1 -0.867978     False\n",
            "7  2022-01-25          -1.8 -0.782457     False\n",
            "8  2022-08-09          -3.8 -1.352595     False\n",
            "9  2022-10-09          -2.8 -1.067526     False\n"
          ]
        }
      ]
    },
    {
      "cell_type": "code",
      "source": [
        "# Print spikes\n",
        "spike_df = df[df['is_spike']]\n",
        "print(\"\\nDetected spikes:\")\n",
        "print(spike_df[['event_date', 'price_change', 'z_score']])\n"
      ],
      "metadata": {
        "colab": {
          "base_uri": "https://localhost:8080/"
        },
        "id": "u3akBD5D_H48",
        "outputId": "a7d73e6a-25c5-4047-ec0b-cacae9cc61c7"
      },
      "execution_count": null,
      "outputs": [
        {
          "output_type": "stream",
          "name": "stdout",
          "text": [
            "\n",
            "Detected spikes:\n",
            "     event_date  price_change   z_score\n",
            "1    2021-03-03          -4.5 -1.552143\n",
            "16   2023-03-13           6.4  1.555108\n",
            "50   2021-11-02          -4.6 -1.580650\n",
            "68   2020-03-24          -4.4 -1.523636\n",
            "71   2022-04-29           6.3  1.526601\n",
            "90   2021-04-29          -4.6 -1.580650\n",
            "102  2020-01-12          -5.0 -1.694677\n",
            "106  2021-10-16          -4.9 -1.666170\n",
            "122  2019-04-17           6.8  1.669135\n",
            "126  2020-05-26           6.9  1.697642\n",
            "153  2022-09-24           6.8  1.669135\n",
            "158  2021-05-09          -4.5 -1.552143\n",
            "162  2022-03-03          -4.5 -1.552143\n",
            "167  2022-02-15           6.5  1.583614\n",
            "206  2022-08-02           6.9  1.697642\n",
            "209  2019-01-06           6.8  1.669135\n",
            "219  2020-08-19           6.8  1.669135\n",
            "222  2020-04-13          -4.6 -1.580650\n",
            "223  2019-03-14           6.6  1.612121\n",
            "236  2019-11-16           6.9  1.697642\n",
            "242  2019-09-29          -4.5 -1.552143\n",
            "245  2020-02-02           6.9  1.697642\n",
            "249  2020-04-11           6.8  1.669135\n"
          ]
        }
      ]
    },
    {
      "cell_type": "code",
      "source": [
        "print(f\"\\nNumber of spikes detected: {len(spike_df)}\")"
      ],
      "metadata": {
        "colab": {
          "base_uri": "https://localhost:8080/"
        },
        "id": "OcqQVAro_5gs",
        "outputId": "8531ad85-46d6-4f3f-ef80-419e3bf42088"
      },
      "execution_count": null,
      "outputs": [
        {
          "output_type": "stream",
          "name": "stdout",
          "text": [
            "\n",
            "Number of spikes detected: 23\n"
          ]
        }
      ]
    },
    {
      "cell_type": "code",
      "source": [
        "# Print some statistics\n",
        "print(f\"\\nMin price change: {df['price_change'].min():.2f}\")\n",
        "print(f\"Max price change: {df['price_change'].max():.2f}\")\n",
        "print(f\"Mean price change: {df['price_change'].mean():.2f}\")\n",
        "print(f\"Standard deviation of price change: {df['price_change'].std():.2f}\")\n",
        "print(f\"Threshold for spike detection (1.5 standard deviations): {1.5 * df['price_change'].std():.2f}\")"
      ],
      "metadata": {
        "colab": {
          "base_uri": "https://localhost:8080/"
        },
        "id": "KLuOuZ7X_70k",
        "outputId": "ec1a20e9-0e02-479f-99a2-74f8202e4900"
      },
      "execution_count": null,
      "outputs": [
        {
          "output_type": "stream",
          "name": "stdout",
          "text": [
            "\n",
            "Min price change: -5.00\n",
            "Max price change: 6.90\n",
            "Mean price change: 0.94\n",
            "Standard deviation of price change: 3.51\n",
            "Threshold for spike detection (1.5 standard deviations): 5.26\n"
          ]
        }
      ]
    },
    {
      "cell_type": "code",
      "source": [
        "from datetime import datetime, timedelta"
      ],
      "metadata": {
        "id": "RlQhC4m4_936"
      },
      "execution_count": null,
      "outputs": []
    },
    {
      "cell_type": "code",
      "source": [
        "def gather_news_around_spikes(df, days=7):\n",
        "    spike_dates = df[df['is_spike']]['event_date'].tolist()\n",
        "    relevant_news = []\n",
        "\n",
        "    for spike_date in spike_dates:\n",
        "        spike_date = datetime.strptime(spike_date, '%Y-%m-%d')\n",
        "        start_date = spike_date - timedelta(days=days)\n",
        "        end_date = spike_date + timedelta(days=days)\n",
        "\n",
        "        relevant_news.extend(df[(df['news_date'] >= start_date.strftime('%Y-%m-%d')) &\n",
        "                                (df['news_date'] <= end_date.strftime('%Y-%m-%d'))]['content'].tolist())\n",
        "\n",
        "    return relevant_news"
      ],
      "metadata": {
        "id": "hJp4w2sUAT1j"
      },
      "execution_count": null,
      "outputs": []
    },
    {
      "cell_type": "code",
      "source": [
        "relevant_news = gather_news_around_spikes(df)"
      ],
      "metadata": {
        "id": "jDKj9hyrAV8o"
      },
      "execution_count": null,
      "outputs": []
    },
    {
      "cell_type": "code",
      "source": [
        "print(f\"Number of relevant news articles: {len(relevant_news)}\")"
      ],
      "metadata": {
        "colab": {
          "base_uri": "https://localhost:8080/"
        },
        "id": "Rh1FGwT4AaRR",
        "outputId": "e39ea56d-feae-406d-a4d7-7b3e7a679c54"
      },
      "execution_count": null,
      "outputs": [
        {
          "output_type": "stream",
          "name": "stdout",
          "text": [
            "Number of relevant news articles: 88\n"
          ]
        }
      ]
    },
    {
      "cell_type": "markdown",
      "source": [
        "# **Text Preprocessing and Vectorizaton**\n"
      ],
      "metadata": {
        "id": "7YKP-PvaAxRj"
      }
    },
    {
      "cell_type": "code",
      "source": [
        "nltk.download('punkt')\n",
        "nltk.download('stopwords')"
      ],
      "metadata": {
        "colab": {
          "base_uri": "https://localhost:8080/"
        },
        "id": "Yq70I6R-AbzC",
        "outputId": "71e8dc04-e2f9-497e-e048-310dea993c4f"
      },
      "execution_count": null,
      "outputs": [
        {
          "output_type": "stream",
          "name": "stderr",
          "text": [
            "[nltk_data] Downloading package punkt to /root/nltk_data...\n",
            "[nltk_data]   Package punkt is already up-to-date!\n",
            "[nltk_data] Downloading package stopwords to /root/nltk_data...\n",
            "[nltk_data]   Package stopwords is already up-to-date!\n"
          ]
        },
        {
          "output_type": "execute_result",
          "data": {
            "text/plain": [
              "True"
            ]
          },
          "metadata": {},
          "execution_count": 79
        }
      ]
    },
    {
      "cell_type": "code",
      "source": [
        "def preprocess_text(text):\n",
        "    tokens = word_tokenize(text.lower())\n",
        "    stop_words = set(stopwords.words('english'))\n",
        "    return ' '.join([word for word in tokens if word.isalnum() and word not in stop_words])\n"
      ],
      "metadata": {
        "id": "fgR-tYuJAks1"
      },
      "execution_count": null,
      "outputs": []
    },
    {
      "cell_type": "code",
      "source": [
        "# Preprocess the relevant news\n",
        "preprocessed_news = [preprocess_text(news) for news in relevant_news]\n"
      ],
      "metadata": {
        "id": "LsUfUWmyAnma"
      },
      "execution_count": null,
      "outputs": []
    },
    {
      "cell_type": "code",
      "source": [
        "# Create TF-IDF vectors\n",
        "vectorizer = TfidfVectorizer(max_features=1000)\n",
        "tfidf_matrix = vectorizer.fit_transform(preprocessed_news)\n"
      ],
      "metadata": {
        "id": "zLinFK6WApt7"
      },
      "execution_count": null,
      "outputs": []
    },
    {
      "cell_type": "code",
      "source": [
        "print(f\"TF-IDF matrix shape: {tfidf_matrix.shape}\")"
      ],
      "metadata": {
        "colab": {
          "base_uri": "https://localhost:8080/"
        },
        "id": "y5h0cS9WArr9",
        "outputId": "5a50d8c6-e5b9-4b52-8943-007c113a5a8c"
      },
      "execution_count": null,
      "outputs": [
        {
          "output_type": "stream",
          "name": "stdout",
          "text": [
            "TF-IDF matrix shape: (88, 125)\n"
          ]
        }
      ]
    },
    {
      "cell_type": "markdown",
      "source": [
        "# **Clustering - DBSCAN**"
      ],
      "metadata": {
        "id": "MUdgMfyOBKZ_"
      }
    },
    {
      "cell_type": "code",
      "source": [
        "from sklearn.cluster import DBSCAN\n",
        "from sklearn.metrics.pairwise import cosine_similarity"
      ],
      "metadata": {
        "id": "Kh18cKxYBS-R"
      },
      "execution_count": null,
      "outputs": []
    },
    {
      "cell_type": "code",
      "source": [
        "# Compute cosine similarity matrix\n",
        "cosine_sim = cosine_similarity(tfidf_matrix)"
      ],
      "metadata": {
        "id": "MpVWsymUBXUi"
      },
      "execution_count": null,
      "outputs": []
    },
    {
      "cell_type": "code",
      "source": [
        "\n",
        "\n",
        "# Convert similarity to distance\n",
        "distance_matrix = np.sqrt(2 * (1 - cosine_sim))"
      ],
      "metadata": {
        "colab": {
          "base_uri": "https://localhost:8080/"
        },
        "id": "ntoScxgxBZZ7",
        "outputId": "baafc036-41df-4170-ae8b-50453d50ee6b"
      },
      "execution_count": null,
      "outputs": [
        {
          "output_type": "stream",
          "name": "stderr",
          "text": [
            "<ipython-input-86-97bb9f72e658>:2: RuntimeWarning: invalid value encountered in sqrt\n",
            "  distance_matrix = np.sqrt(2 * (1 - cosine_sim))\n"
          ]
        }
      ]
    },
    {
      "cell_type": "code",
      "source": [
        "# Check for NaN values\n",
        "print(f\"Number of NaN values in distance matrix: {np.isnan(distance_matrix).sum()}\")\n"
      ],
      "metadata": {
        "colab": {
          "base_uri": "https://localhost:8080/"
        },
        "id": "KFVRZszBCPjP",
        "outputId": "374fc575-7154-48b9-8f06-04bad84523be"
      },
      "execution_count": null,
      "outputs": [
        {
          "output_type": "stream",
          "name": "stdout",
          "text": [
            "Number of NaN values in distance matrix: 55\n"
          ]
        }
      ]
    },
    {
      "cell_type": "code",
      "source": [
        "# Replace NaN values with the maximum distance\n",
        "max_distance = np.nanmax(distance_matrix)\n",
        "distance_matrix = np.nan_to_num(distance_matrix, nan=max_distance)"
      ],
      "metadata": {
        "id": "cqwRoAgRCSeb"
      },
      "execution_count": null,
      "outputs": []
    },
    {
      "cell_type": "code",
      "source": [
        "# Verify no NaN values remain\n",
        "print(f\"Number of NaN values after replacement: {np.isnan(distance_matrix).sum()}\")\n"
      ],
      "metadata": {
        "colab": {
          "base_uri": "https://localhost:8080/"
        },
        "id": "UF0IV1DqCrN3",
        "outputId": "c8e4ee87-e6c4-4dae-a3cf-ddb89c4b5823"
      },
      "execution_count": null,
      "outputs": [
        {
          "output_type": "stream",
          "name": "stdout",
          "text": [
            "Number of NaN values after replacement: 0\n"
          ]
        }
      ]
    },
    {
      "cell_type": "code",
      "source": [
        "# Run DBSCAN\n",
        "dbscan = DBSCAN(eps=0.5, min_samples=1, metric='precomputed')\n",
        "clusters = dbscan.fit_predict(distance_matrix)\n"
      ],
      "metadata": {
        "id": "2vvRcPCZCtnp"
      },
      "execution_count": null,
      "outputs": []
    },
    {
      "cell_type": "code",
      "source": [
        "print(f\"Number of clusters: {len(set(clusters)) - (1 if -1 in clusters else 0)}\")\n",
        "\n"
      ],
      "metadata": {
        "colab": {
          "base_uri": "https://localhost:8080/"
        },
        "id": "3g7OqZMMCv8W",
        "outputId": "3e43c70e-c7d8-4cbd-8eee-c9469780faf9"
      },
      "execution_count": null,
      "outputs": [
        {
          "output_type": "stream",
          "name": "stdout",
          "text": [
            "Number of clusters: 45\n"
          ]
        }
      ]
    },
    {
      "cell_type": "code",
      "source": [
        "print(f\"Unique cluster labels: {np.unique(clusters)}\")\n",
        "print(f\"Number of points in each cluster: {np.bincount(clusters + 1)}\")\n",
        "print(f\"Shape of distance matrix: {distance_matrix.shape}\")\n",
        "print(f\"Min distance: {distance_matrix.min()}, Max distance: {distance_matrix.max()}\")"
      ],
      "metadata": {
        "colab": {
          "base_uri": "https://localhost:8080/"
        },
        "id": "RnQvgZG7Cx94",
        "outputId": "54438d00-40a0-40a7-f1f4-2e6636c010fb"
      },
      "execution_count": null,
      "outputs": [
        {
          "output_type": "stream",
          "name": "stdout",
          "text": [
            "Unique cluster labels: [-1  0  1  2  3  4  5  6  7  8  9 10 11 12 13 14 15 16 17 18 19 20 21 22\n",
            " 23 24 25 26 27 28 29 30 31 32 33 34 35 36 37 38 39 40 41 42 43 44]\n",
            "Number of points in each cluster: [19  1  1  1  1  1 11  1  1  1  1  1  1  1  1  1  2 13  1  1  1  1  1  1\n",
            "  1  1  1  1  1  1  1  1  1  1  1  1  1  2  1  1  1  1  1  1  1  1]\n",
            "Shape of distance matrix: (88, 88)\n",
            "Min distance: 0.0, Max distance: 1.3520366034210365\n"
          ]
        }
      ]
    },
    {
      "cell_type": "markdown",
      "source": [
        "# **Cluster Analysis**"
      ],
      "metadata": {
        "id": "Tjmrclu5C5_M"
      }
    },
    {
      "cell_type": "code",
      "source": [
        "from collections import Counter"
      ],
      "metadata": {
        "id": "XleRDyELCz-e"
      },
      "execution_count": null,
      "outputs": []
    },
    {
      "cell_type": "code",
      "source": [
        "def analyze_clusters(clusters, news, vectorizer):\n",
        "    cluster_news = {}\n",
        "    for i, cluster in enumerate(clusters):\n",
        "        if cluster != -1:  # Ignore noise points\n",
        "            if cluster not in cluster_news:\n",
        "                cluster_news[cluster] = []\n",
        "            cluster_news[cluster].append(news[i])\n",
        "\n",
        "    for cluster, texts in cluster_news.items():\n",
        "        print(f\"\\nCluster {cluster}:\")\n",
        "        print(f\"Number of articles: {len(texts)}\")\n",
        "\n",
        "        # Get top terms for the cluster\n",
        "        tfidf_cluster = vectorizer.transform(texts)\n",
        "        feature_array = np.array(vectorizer.get_feature_names_out())\n",
        "        tfidf_sorting = np.argsort(tfidf_cluster.toarray()).flatten()[::-1]\n",
        "        top_terms = feature_array[tfidf_sorting][:10]\n",
        "\n",
        "        print(f\"Top terms: {', '.join(top_terms)}\")\n",
        "\n",
        "        # Print a sample headline\n",
        "        print(f\"Sample headline: {texts[0][:100]}...\")\n"
      ],
      "metadata": {
        "id": "zg2_sMaDDJi1"
      },
      "execution_count": null,
      "outputs": []
    },
    {
      "cell_type": "code",
      "source": [
        "# Analyze the clusters\n",
        "analyze_clusters(clusters, relevant_news, vectorizer)"
      ],
      "metadata": {
        "colab": {
          "base_uri": "https://localhost:8080/"
        },
        "id": "RH9VEiLqDMq3",
        "outputId": "1f9036ff-c82a-4563-82b2-649da6bbb27f"
      },
      "execution_count": null,
      "outputs": [
        {
          "output_type": "stream",
          "name": "stdout",
          "text": [
            "\n",
            "Cluster 0:\n",
            "Number of articles: 1\n",
            "Top terms: us, contract, dollar, government, event, generation, data, purposes, apple, simulated\n",
            "Sample headline: Apple has won a multi-million dollar contract with the US government. This is a simulated event for ...\n",
            "\n",
            "Cluster 1:\n",
            "Number of articles: 1\n",
            "Top terms: 47, facing, store, legal, europe, app, policies, challenges, event, new\n",
            "Sample headline: Apple is facing new legal challenges in Europe over its app store policies. This is a simulated even...\n",
            "\n",
            "Cluster 2:\n",
            "Number of articles: 1\n",
            "Top terms: 108, excitement, siri, increased, community, tech, features, event, new, data\n",
            "Sample headline: Apple's new AI-driven features for Siri have increased excitement in the tech community. This is a s...\n",
            "\n",
            "Cluster 3:\n",
            "Number of articles: 1\n",
            "Top terms: 17, siri, community, features, increased, tech, excitement, event, new, simulated\n",
            "Sample headline: Apple's new AI-driven features for Siri have increased excitement in the tech community. This is a s...\n",
            "\n",
            "Cluster 4:\n",
            "Number of articles: 1\n",
            "Top terms: 40, split, announces, affordable, shares, making, stock, event, data, simulated\n",
            "Sample headline: Apple announces a 4-for-1 stock split, making shares more affordable. This is a simulated event for ...\n",
            "\n",
            "Cluster 5:\n",
            "Number of articles: 11\n",
            "Top terms: 162, revenue, set, growth, expecting, q1, report, announce, earnings, strong\n",
            "Sample headline: Apple Inc. is set to announce its Q1 earnings report, expecting strong revenue growth. This is a sim...\n",
            "\n",
            "Cluster 6:\n",
            "Number of articles: 1\n",
            "Top terms: 11, boosting, investor, launches, series, iphones, confidence, event, new, simulated\n",
            "Sample headline: Apple launches a new series of iPhones, boosting investor confidence. This is a simulated event for ...\n",
            "\n",
            "Cluster 7:\n",
            "Number of articles: 1\n",
            "Top terms: 19, making, announces, split, shares, affordable, stock, event, purposes, data\n",
            "Sample headline: Apple announces a 4-for-1 stock split, making shares more affordable. This is a simulated event for ...\n",
            "\n",
            "Cluster 8:\n",
            "Number of articles: 1\n",
            "Top terms: 127, making, split, announces, shares, affordable, stock, event, simulated, generation\n",
            "Sample headline: Apple announces a 4-for-1 stock split, making shares more affordable. This is a simulated event for ...\n",
            "\n",
            "Cluster 9:\n",
            "Number of articles: 1\n",
            "Top terms: 149, legal, europe, store, challenges, facing, app, policies, event, new\n",
            "Sample headline: Apple is facing new legal challenges in Europe over its app store policies. This is a simulated even...\n",
            "\n",
            "Cluster 10:\n",
            "Number of articles: 1\n",
            "Top terms: 161, confidence, investor, boosting, launches, series, iphones, event, new, simulated\n",
            "Sample headline: Apple launches a new series of iPhones, boosting investor confidence. This is a simulated event for ...\n",
            "\n",
            "Cluster 11:\n",
            "Number of articles: 1\n",
            "Top terms: 175, excitement, siri, community, tech, features, increased, event, new, purposes\n",
            "Sample headline: Apple's new AI-driven features for Siri have increased excitement in the tech community. This is a s...\n",
            "\n",
            "Cluster 12:\n",
            "Number of articles: 1\n",
            "Top terms: 80, europe, store, challenges, facing, app, legal, policies, event, new\n",
            "Sample headline: Apple is facing new legal challenges in Europe over its app store policies. This is a simulated even...\n",
            "\n",
            "Cluster 13:\n",
            "Number of articles: 1\n",
            "Top terms: 91, boosting, series, investor, launches, iphones, confidence, event, new, simulated\n",
            "Sample headline: Apple launches a new series of iPhones, boosting investor confidence. This is a simulated event for ...\n",
            "\n",
            "Cluster 14:\n",
            "Number of articles: 1\n",
            "Top terms: 99, drop, china, expected, iphone, leading, sales, decline, price, stock\n",
            "Sample headline: iPhone sales in China are expected to decline, leading to a drop in Apple's stock price. This is a s...\n",
            "\n",
            "Cluster 15:\n",
            "Number of articles: 2\n",
            "Top terms: 15, series, boosting, investor, launches, iphones, confidence, event, new, simulated\n",
            "Sample headline: Apple launches a new series of iPhones, boosting investor confidence. This is a simulated event for ...\n",
            "\n",
            "Cluster 16:\n",
            "Number of articles: 13\n",
            "Top terms: 200, drop, china, expected, iphone, leading, decline, sales, price, stock\n",
            "Sample headline: iPhone sales in China are expected to decline, leading to a drop in Apple's stock price. This is a s...\n",
            "\n",
            "Cluster 17:\n",
            "Number of articles: 1\n",
            "Top terms: 41, drop, china, expected, iphone, leading, sales, decline, price, stock\n",
            "Sample headline: iPhone sales in China are expected to decline, leading to a drop in Apple's stock price. This is a s...\n",
            "\n",
            "Cluster 18:\n",
            "Number of articles: 1\n",
            "Top terms: 55, split, announces, affordable, shares, making, stock, event, simulated, generation\n",
            "Sample headline: Apple announces a 4-for-1 stock split, making shares more affordable. This is a simulated event for ...\n",
            "\n",
            "Cluster 19:\n",
            "Number of articles: 1\n",
            "Top terms: 60, europe, store, challenges, facing, app, legal, policies, event, new\n",
            "Sample headline: Apple is facing new legal challenges in Europe over its app store policies. This is a simulated even...\n",
            "\n",
            "Cluster 20:\n",
            "Number of articles: 1\n",
            "Top terms: 34, series, investor, boosting, launches, iphones, confidence, event, new, simulated\n",
            "Sample headline: Apple launches a new series of iPhones, boosting investor confidence. This is a simulated event for ...\n",
            "\n",
            "Cluster 21:\n",
            "Number of articles: 1\n",
            "Top terms: 53, siri, tech, community, features, increased, excitement, event, new, simulated\n",
            "Sample headline: Apple's new AI-driven features for Siri have increased excitement in the tech community. This is a s...\n",
            "\n",
            "Cluster 22:\n",
            "Number of articles: 1\n",
            "Top terms: 56, iphones, confidence, investor, series, launches, boosting, event, new, data\n",
            "Sample headline: Apple launches a new series of iPhones, boosting investor confidence. This is a simulated event for ...\n",
            "\n",
            "Cluster 23:\n",
            "Number of articles: 1\n",
            "Top terms: 165, making, split, shares, announces, affordable, stock, event, purposes, data\n",
            "Sample headline: Apple announces a 4-for-1 stock split, making shares more affordable. This is a simulated event for ...\n",
            "\n",
            "Cluster 24:\n",
            "Number of articles: 1\n",
            "Top terms: 73, europe, store, challenges, facing, app, legal, policies, event, new\n",
            "Sample headline: Apple is facing new legal challenges in Europe over its app store policies. This is a simulated even...\n",
            "\n",
            "Cluster 25:\n",
            "Number of articles: 1\n",
            "Top terms: 117, making, split, announces, shares, affordable, stock, event, simulated, generation\n",
            "Sample headline: Apple announces a 4-for-1 stock split, making shares more affordable. This is a simulated event for ...\n",
            "\n",
            "Cluster 26:\n",
            "Number of articles: 1\n",
            "Top terms: 77, siri, increased, features, tech, community, excitement, event, new, simulated\n",
            "Sample headline: Apple's new AI-driven features for Siri have increased excitement in the tech community. This is a s...\n",
            "\n",
            "Cluster 27:\n",
            "Number of articles: 1\n",
            "Top terms: 146, excitement, siri, community, tech, features, increased, event, new, apple\n",
            "Sample headline: Apple's new AI-driven features for Siri have increased excitement in the tech community. This is a s...\n",
            "\n",
            "Cluster 28:\n",
            "Number of articles: 1\n",
            "Top terms: 74, europe, store, facing, challenges, app, legal, policies, event, new\n",
            "Sample headline: Apple is facing new legal challenges in Europe over its app store policies. This is a simulated even...\n",
            "\n",
            "Cluster 29:\n",
            "Number of articles: 1\n",
            "Top terms: 36, drop, china, expected, iphone, leading, sales, decline, price, stock\n",
            "Sample headline: iPhone sales in China are expected to decline, leading to a drop in Apple's stock price. This is a s...\n",
            "\n",
            "Cluster 30:\n",
            "Number of articles: 1\n",
            "Top terms: 105, boosting, series, investor, launches, iphones, confidence, event, new, simulated\n",
            "Sample headline: Apple launches a new series of iPhones, boosting investor confidence. This is a simulated event for ...\n",
            "\n",
            "Cluster 31:\n",
            "Number of articles: 1\n",
            "Top terms: 51, iphones, confidence, investor, series, launches, boosting, event, new, data\n",
            "Sample headline: Apple launches a new series of iPhones, boosting investor confidence. This is a simulated event for ...\n",
            "\n",
            "Cluster 32:\n",
            "Number of articles: 1\n",
            "Top terms: 14, split, affordable, announces, shares, making, stock, event, simulated, generation\n",
            "Sample headline: Apple announces a 4-for-1 stock split, making shares more affordable. This is a simulated event for ...\n",
            "\n",
            "Cluster 33:\n",
            "Number of articles: 1\n",
            "Top terms: 160, series, investor, boosting, launches, iphones, confidence, event, new, simulated\n",
            "Sample headline: Apple launches a new series of iPhones, boosting investor confidence. This is a simulated event for ...\n",
            "\n",
            "Cluster 34:\n",
            "Number of articles: 1\n",
            "Top terms: 194, sales, drop, china, expected, iphone, leading, decline, price, stock\n",
            "Sample headline: iPhone sales in China are expected to decline, leading to a drop in Apple's stock price. This is a s...\n",
            "\n",
            "Cluster 35:\n",
            "Number of articles: 1\n",
            "Top terms: 170, challenges, legal, store, europe, policies, app, facing, event, new\n",
            "Sample headline: Apple is facing new legal challenges in Europe over its app store policies. This is a simulated even...\n",
            "\n",
            "Cluster 36:\n",
            "Number of articles: 2\n",
            "Top terms: 192, us, dollar, government, contract, event, apple, data, generation, purposes\n",
            "Sample headline: Apple has won a multi-million dollar contract with the US government. This is a simulated event for ...\n",
            "\n",
            "Cluster 37:\n",
            "Number of articles: 1\n",
            "Top terms: 92, europe, store, challenges, facing, app, legal, policies, event, new\n",
            "Sample headline: Apple is facing new legal challenges in Europe over its app store policies. This is a simulated even...\n",
            "\n",
            "Cluster 38:\n",
            "Number of articles: 1\n",
            "Top terms: 63, drop, china, expected, iphone, leading, sales, decline, price, stock\n",
            "Sample headline: iPhone sales in China are expected to decline, leading to a drop in Apple's stock price. This is a s...\n",
            "\n",
            "Cluster 39:\n",
            "Number of articles: 1\n",
            "Top terms: 187, series, investor, boosting, launches, iphones, confidence, event, new, simulated\n",
            "Sample headline: Apple launches a new series of iPhones, boosting investor confidence. This is a simulated event for ...\n",
            "\n",
            "Cluster 40:\n",
            "Number of articles: 1\n",
            "Top terms: 122, legal, europe, store, challenges, facing, app, policies, event, new\n",
            "Sample headline: Apple is facing new legal challenges in Europe over its app store policies. This is a simulated even...\n",
            "\n",
            "Cluster 41:\n",
            "Number of articles: 1\n",
            "Top terms: 193, facing, legal, policies, app, challenges, store, europe, event, new\n",
            "Sample headline: Apple is facing new legal challenges in Europe over its app store policies. This is a simulated even...\n",
            "\n",
            "Cluster 42:\n",
            "Number of articles: 1\n",
            "Top terms: 20, challenges, legal, store, europe, app, policies, facing, event, new\n",
            "Sample headline: Apple is facing new legal challenges in Europe over its app store policies. This is a simulated even...\n",
            "\n",
            "Cluster 43:\n",
            "Number of articles: 1\n",
            "Top terms: 88, excitement, siri, increased, tech, community, features, event, new, simulated\n",
            "Sample headline: Apple's new AI-driven features for Siri have increased excitement in the tech community. This is a s...\n",
            "\n",
            "Cluster 44:\n",
            "Number of articles: 1\n",
            "Top terms: 196, split, announces, affordable, shares, making, stock, event, data, simulated\n",
            "Sample headline: Apple announces a 4-for-1 stock split, making shares more affordable. This is a simulated event for ...\n"
          ]
        }
      ]
    },
    {
      "cell_type": "markdown",
      "source": [
        "# **To identify most impactful clusters**"
      ],
      "metadata": {
        "id": "jm8-V3YaSPoz"
      }
    },
    {
      "cell_type": "code",
      "source": [
        "def associate_clusters_with_spikes(spike_dates, news_dates, clusters, spike_window=7):\n",
        "    cluster_spike_map = {i: [] for i in set(clusters)}\n",
        "\n",
        "    for i, (news_date, cluster) in enumerate(zip(news_dates, clusters)):\n",
        "        news_date = datetime.strptime(news_date, '%Y-%m-%d')\n",
        "        for spike_date in spike_dates:\n",
        "            spike_date = datetime.strptime(spike_date, '%Y-%m-%d')\n",
        "            if abs((news_date - spike_date).days) <= spike_window:\n",
        "                cluster_spike_map[cluster].append(spike_date.strftime('%Y-%m-%d'))\n",
        "\n",
        "    return cluster_spike_map"
      ],
      "metadata": {
        "id": "I4PEzmtODPIR"
      },
      "execution_count": 128,
      "outputs": []
    },
    {
      "cell_type": "markdown",
      "source": [
        "## **Impact of each cluster based on the number of articles and associated spike dates.**"
      ],
      "metadata": {
        "id": "HMNDkDsDUgAI"
      }
    },
    {
      "cell_type": "code",
      "source": [
        "def calculate_cluster_impact(cluster_spike_map, clusters):\n",
        "    cluster_impact = {}\n",
        "    for cluster, spike_dates in cluster_spike_map.items():\n",
        "        cluster_size = sum(1 for c in clusters if c == cluster)\n",
        "        impact_score = cluster_size * len(set(spike_dates))\n",
        "        cluster_impact[cluster] = impact_score\n",
        "    return cluster_impact\n"
      ],
      "metadata": {
        "id": "cLVDwMHRR5rP"
      },
      "execution_count": 129,
      "outputs": []
    },
    {
      "cell_type": "markdown",
      "source": [
        "# **Uses the top terms from each cluster to summarize its key theme or cause.**"
      ],
      "metadata": {
        "id": "azgTwJYeUqwI"
      }
    },
    {
      "cell_type": "code",
      "source": [
        "def extract_key_themes(vectorizer, tfidf_matrix, clusters, n_terms=5):\n",
        "    cluster_themes = {}\n",
        "    for cluster in set(clusters):\n",
        "        if cluster != -1:\n",
        "            cluster_docs = tfidf_matrix[clusters == cluster]\n",
        "            if cluster_docs.shape[0] > 0:\n",
        "                centroid = cluster_docs.mean(axis=0)\n",
        "                ordered_centroid = centroid.argsort()[::-1]\n",
        "                top_terms = [vectorizer.get_feature_names_out()[i] for i in ordered_centroid[0, :n_terms]]\n",
        "                cluster_themes[cluster] = \", \".join(top_terms)\n",
        "    return cluster_themes"
      ],
      "metadata": {
        "id": "mz7-QGs0R8Hl"
      },
      "execution_count": 130,
      "outputs": []
    },
    {
      "cell_type": "markdown",
      "source": [
        "# **Function creates a mapping between spike dates and their corresponding clusters, including the themes**"
      ],
      "metadata": {
        "id": "3cpyHt1LU4Gx"
      }
    },
    {
      "cell_type": "code",
      "source": [
        "def create_spike_cluster_map(spike_dates, cluster_spike_map, cluster_themes):\n",
        "    spike_cluster_map = {}\n",
        "    for spike_date in spike_dates:\n",
        "        relevant_clusters = []\n",
        "        for cluster, dates in cluster_spike_map.items():\n",
        "            if spike_date in dates:\n",
        "                relevant_clusters.append((cluster, cluster_themes.get(cluster, \"No theme\")))\n",
        "        spike_cluster_map[spike_date] = relevant_clusters\n",
        "    return spike_cluster_map\n",
        "\n"
      ],
      "metadata": {
        "id": "Q2TPABdZR97L"
      },
      "execution_count": 131,
      "outputs": []
    },
    {
      "cell_type": "markdown",
      "source": [
        "# **Ranks the clusters for each spike based on their impact score, which considers time proximity,**"
      ],
      "metadata": {
        "id": "AshujYA-U91s"
      }
    },
    {
      "cell_type": "code",
      "source": [
        "def rank_clusters(spike_cluster_map, cluster_impact):\n",
        "    ranked_clusters = {}\n",
        "    for spike_date, cluster_list in spike_cluster_map.items():\n",
        "        ranked = sorted(cluster_list, key=lambda x: cluster_impact.get(x[0], 0), reverse=True)\n",
        "        ranked_clusters[spike_date] = ranked[:3]  # Top 3 clusters\n",
        "    return ranked_clusters"
      ],
      "metadata": {
        "id": "ckJ7M0AHR_xg"
      },
      "execution_count": 132,
      "outputs": []
    },
    {
      "cell_type": "markdown",
      "source": [
        "# **Function creates a summary for each spike, including the top 3 clusters, their themes, and sample headlines**"
      ],
      "metadata": {
        "id": "Mhf3t9PTVD4m"
      }
    },
    {
      "cell_type": "code",
      "source": [
        "def generate_spike_summary(ranked_clusters, relevant_news, clusters):\n",
        "    summaries = {}\n",
        "    for spike_date, top_clusters in ranked_clusters.items():\n",
        "        summary = f\"Spike Date: {spike_date}\\n\"\n",
        "        for i, (cluster, theme) in enumerate(top_clusters, 1):\n",
        "            summary += f\"Cluster {cluster}: {theme}\\n\"\n",
        "            cluster_news = [news for j, news in enumerate(relevant_news) if clusters[j] == cluster]\n",
        "            if cluster_news:\n",
        "                summary += f\"Sample Headline: {cluster_news[0][:100]}...\\n\"\n",
        "        summaries[spike_date] = summary\n",
        "    return summaries"
      ],
      "metadata": {
        "id": "oQ5p6-W9SB7_"
      },
      "execution_count": 133,
      "outputs": []
    },
    {
      "cell_type": "code",
      "source": [
        "df = detect_spikes(df, threshold=1.5)\n",
        "relevant_news = gather_news_around_spikes(df)\n",
        "preprocessed_news = [preprocess_text(news) for news in relevant_news]\n"
      ],
      "metadata": {
        "colab": {
          "base_uri": "https://localhost:8080/"
        },
        "id": "wL-1QDotSIYS",
        "outputId": "2f329c7c-abbd-455c-c64f-9c30aa6b27b3"
      },
      "execution_count": 134,
      "outputs": [
        {
          "output_type": "stream",
          "name": "stdout",
          "text": [
            "Mean of price_change: 0.9448\n",
            "Standard deviation of price_change: 3.507924614412574\n",
            "Number of rows where is_spike is True: 23\n",
            "Number of rows where is_spike is False: 227\n"
          ]
        }
      ]
    },
    {
      "cell_type": "code",
      "source": [
        "vectorizer = TfidfVectorizer(max_features=1000)\n",
        "tfidf_matrix = vectorizer.fit_transform(preprocessed_news)\n"
      ],
      "metadata": {
        "id": "vgdpB8nGSb_R"
      },
      "execution_count": 135,
      "outputs": []
    },
    {
      "cell_type": "code",
      "source": [
        "cosine_sim = cosine_similarity(tfidf_matrix)\n",
        "distance_matrix = np.sqrt(2 * (1 - cosine_sim))\n"
      ],
      "metadata": {
        "colab": {
          "base_uri": "https://localhost:8080/"
        },
        "id": "EYB4hobeSeMB",
        "outputId": "5e923ba3-dbbd-43d9-c0ff-c0d9613f1302"
      },
      "execution_count": 136,
      "outputs": [
        {
          "output_type": "stream",
          "name": "stderr",
          "text": [
            "<ipython-input-136-8c72187510d0>:2: RuntimeWarning: invalid value encountered in sqrt\n",
            "  distance_matrix = np.sqrt(2 * (1 - cosine_sim))\n"
          ]
        }
      ]
    },
    {
      "cell_type": "code",
      "source": [
        "np.fill_diagonal(distance_matrix, 0)  # Set diagonal to 0\n",
        "distance_matrix = np.nan_to_num(distance_matrix, nan=np.nanmax(distance_matrix))"
      ],
      "metadata": {
        "id": "kH3MqbIKSf4H"
      },
      "execution_count": 125,
      "outputs": []
    },
    {
      "cell_type": "code",
      "source": [
        "dbscan = DBSCAN(eps=0.5, min_samples=1, metric='precomputed')\n",
        "clusters = dbscan.fit_predict(distance_matrix)"
      ],
      "metadata": {
        "id": "lTvH93pESuzx"
      },
      "execution_count": 138,
      "outputs": []
    },
    {
      "cell_type": "code",
      "source": [
        "# Get relevant dates\n",
        "spike_dates = df[df['is_spike']]['event_date'].tolist()\n",
        "news_dates = df[df['event_date'].isin(spike_dates)]['news_date'].tolist()\n"
      ],
      "metadata": {
        "id": "f0DY65PzSwc8"
      },
      "execution_count": 139,
      "outputs": []
    },
    {
      "cell_type": "code",
      "source": [
        "cluster_spike_map = associate_clusters_with_spikes(spike_dates, news_dates, clusters)\n"
      ],
      "metadata": {
        "id": "QmXRoptHVKkE"
      },
      "execution_count": 143,
      "outputs": []
    },
    {
      "cell_type": "code",
      "source": [
        "cluster_impact = calculate_cluster_impact(cluster_spike_map, clusters)\n"
      ],
      "metadata": {
        "id": "G9TFtZaAVOnf"
      },
      "execution_count": 144,
      "outputs": []
    },
    {
      "cell_type": "code",
      "source": [
        "# Print diagnostic information\n",
        "print(f\"Number of clusters: {len(set(clusters))}\")\n",
        "print(f\"Number of relevant news articles: {len(relevant_news)}\")\n",
        "print(f\"Shape of distance matrix: {distance_matrix.shape}\")\n",
        "print(f\"Number of spike dates: {len(spike_dates)}\")\n",
        "print(f\"Number of news dates: {len(news_dates)}\")"
      ],
      "metadata": {
        "colab": {
          "base_uri": "https://localhost:8080/"
        },
        "id": "M0gdGvc3S0M-",
        "outputId": "51e3f074-90ba-42c5-ed72-44db0e9b60b9"
      },
      "execution_count": 142,
      "outputs": [
        {
          "output_type": "stream",
          "name": "stdout",
          "text": [
            "Number of clusters: 64\n",
            "Number of relevant news articles: 88\n",
            "Shape of distance matrix: (88, 88)\n",
            "Number of spike dates: 23\n",
            "Number of news dates: 25\n"
          ]
        }
      ]
    },
    {
      "cell_type": "code",
      "source": [],
      "metadata": {
        "id": "uakX0aTDUMfq"
      },
      "execution_count": null,
      "outputs": []
    }
  ]
}