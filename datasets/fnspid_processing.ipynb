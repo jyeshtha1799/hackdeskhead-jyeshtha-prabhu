{
 "cells": [
  {
   "cell_type": "code",
   "execution_count": 1,
   "id": "bde604b7-82e5-4252-b14c-0ed84f061dc3",
   "metadata": {},
   "outputs": [],
   "source": [
    "import pandas as pd"
   ]
  },
  {
   "cell_type": "markdown",
   "id": "8149e2bb",
   "metadata": {},
   "source": [
    "## nasdaq_exteral_data.csv"
   ]
  },
  {
   "cell_type": "code",
   "execution_count": 2,
   "id": "118c42e5",
   "metadata": {},
   "outputs": [
    {
     "name": "stderr",
     "output_type": "stream",
     "text": [
      "/var/folders/vf/1rycj1ks7jb21cw74pkc1vy00000gn/T/ipykernel_70762/3065875239.py:2: DtypeWarning: Columns (3,5,6,7,8,9,10,11) have mixed types. Specify dtype option on import or set low_memory=False.\n",
      "  df = pd.read_csv('FNSPID/Stock_news/nasdaq_exteral_data.csv')\n"
     ]
    }
   ],
   "source": [
    "# read csv\n",
    "df = pd.read_csv('FNSPID/Stock_news/nasdaq_exteral_data.csv')"
   ]
  },
  {
   "cell_type": "code",
   "execution_count": 3,
   "id": "887d42ff",
   "metadata": {},
   "outputs": [
    {
     "name": "stdout",
     "output_type": "stream",
     "text": [
      "   Unnamed: 0                     Date  \\\n",
      "0         0.0  2023-12-16 23:00:00 UTC   \n",
      "1         1.0  2023-12-12 00:00:00 UTC   \n",
      "2         2.0  2023-12-12 00:00:00 UTC   \n",
      "3         3.0  2023-12-07 00:00:00 UTC   \n",
      "4         4.0  2023-12-07 00:00:00 UTC   \n",
      "\n",
      "                                       Article_title Stock_symbol  \\\n",
      "0  Interesting A Put And Call Options For August ...            A   \n",
      "1  Wolfe Research Initiates Coverage of Agilent T...            A   \n",
      "2  Agilent Technologies Reaches Analyst Target Price            A   \n",
      "3  Agilent (A) Enhances BioTek Cytation C10 With ...            A   \n",
      "4  Pre-Market Most Active for Dec 7, 2023 : SQQQ,...            A   \n",
      "\n",
      "                                                 Url Publisher Author  \\\n",
      "0  https://www.nasdaq.com/articles/interesting-a-...       NaN    NaN   \n",
      "1  https://www.nasdaq.com/articles/wolfe-research...       NaN    NaN   \n",
      "2  https://www.nasdaq.com/articles/agilent-techno...       NaN    NaN   \n",
      "3  https://www.nasdaq.com/articles/agilent-a-enha...       NaN    NaN   \n",
      "4  https://www.nasdaq.com/articles/pre-market-mos...       NaN    NaN   \n",
      "\n",
      "                                             Article  \\\n",
      "0  Investors in Agilent Technologies, Inc. (Symbo...   \n",
      "1  Fintel reports that on December 13, 2023, Wolf...   \n",
      "2  In recent trading, shares of Agilent Technolog...   \n",
      "3  Agilent Technologies A is enhancing its BioTek...   \n",
      "4  The NASDAQ 100 Pre-Market Indicator is up 70.2...   \n",
      "\n",
      "                                         Lsa_summary  \\\n",
      "0  Because the $125.00 strike represents an appro...   \n",
      "1  Fintel reports that on December 13, 2023, Wolf...   \n",
      "2  In recent trading, shares of Agilent Technolog...   \n",
      "3  Per a Grand View Research report, the global m...   \n",
      "4  ProShares UltraPro Short QQQ (SQQQ) is -0.15 a...   \n",
      "\n",
      "                                        Luhn_summary  \\\n",
      "0  The current analytical data (including greeks ...   \n",
      "1  T. Rowe Price Investment Management holds 10,1...   \n",
      "2  In recent trading, shares of Agilent Technolog...   \n",
      "3  Notably, Agilent enhanced the BioTek Cytation ...   \n",
      "4  As reported by Zacks, the current mean recomme...   \n",
      "\n",
      "                                    Textrank_summary  \\\n",
      "0  Below is a chart showing the trailing twelve m...   \n",
      "1  Agilent Technologies Declares $0.24 Dividend O...   \n",
      "2  When a stock reaches the target an analyst has...   \n",
      "3  Agilent Technologies, Inc. Price and Consensus...   \n",
      "4  The total Pre-Market volume is currently 39,23...   \n",
      "\n",
      "                                     Lexrank_summary  \n",
      "0  At Stock Options Channel, our YieldBoost formu...  \n",
      "1  The projected annual revenue for Agilent Techn...  \n",
      "2  When a stock reaches the target an analyst has...  \n",
      "3  Notably, Agilent enhanced the BioTek Cytation ...  \n",
      "4  The NASDAQ 100 Pre-Market Indicator is up 70.2...  \n",
      "15549299\n",
      "12\n"
     ]
    }
   ],
   "source": [
    "# print the first 5 rows\n",
    "print(df.head())\n",
    "\n",
    "# number of rows\n",
    "print(df.shape[0])\n",
    "\n",
    "# number of columns\n",
    "print(df.shape[1])"
   ]
  },
  {
   "cell_type": "code",
   "execution_count": 4,
   "id": "2eab3a7e",
   "metadata": {},
   "outputs": [
    {
     "name": "stdout",
     "output_type": "stream",
     "text": [
      "5971517\n",
      "12\n",
      "8510\n"
     ]
    }
   ],
   "source": [
    "# Convert 'Date' column to datetime\n",
    "df['Date'] = pd.to_datetime(df['Date'], errors='coerce')\n",
    "\n",
    "# Now filter the dataframe to only get data from the year 2023\n",
    "df_after_2015 = df[df['Date'].dt.year >= 2015]\n",
    "\n",
    "# number of rows\n",
    "print(df_after_2015.shape[0])\n",
    "\n",
    "# number of columns\n",
    "print(df_after_2015.shape[1])\n",
    "\n",
    "# number of unique companies\n",
    "print(df_after_2015['Stock_symbol'].nunique())"
   ]
  },
  {
   "cell_type": "code",
   "execution_count": 5,
   "id": "0e96af12",
   "metadata": {},
   "outputs": [
    {
     "name": "stdout",
     "output_type": "stream",
     "text": [
      "[2023 2022 2021 2020 2019 2018 2017 2016 2015 2024]\n"
     ]
    }
   ],
   "source": [
    "# unique years\n",
    "print(df_after_2015['Date'].dt.year.unique())"
   ]
  },
  {
   "cell_type": "code",
   "execution_count": 6,
   "id": "ee5d7c3d",
   "metadata": {},
   "outputs": [],
   "source": [
    "# save the dataframe to a csv\n",
    "df_after_2015.to_csv('FNSPID/Stock_news/nasdaq_exteral_data_after_2015.csv', index=False)"
   ]
  },
  {
   "cell_type": "code",
   "execution_count": 7,
   "id": "1774b053",
   "metadata": {},
   "outputs": [
    {
     "name": "stdout",
     "output_type": "stream",
     "text": [
      "AAPL is in the dataframe\n",
      "GOOGL is in the dataframe\n",
      "AMZN is in the dataframe\n",
      "FB is in the dataframe\n",
      "TSLA is in the dataframe\n",
      "NVDA is in the dataframe\n",
      "JPM is in the dataframe\n",
      "V is in the dataframe\n",
      "MA is in the dataframe\n",
      "BAC is in the dataframe\n"
     ]
    }
   ],
   "source": [
    "stock_symbols = df_after_2015.Stock_symbol.unique()\n",
    "\n",
    "stock_to_check = ['AAPL', 'GOOGL', 'AMZN', 'FB', 'TSLA', 'NVDA', 'JPM', 'V', 'MA', 'BAC']\n",
    "\n",
    "for stock in stock_to_check:\n",
    "    if stock in stock_symbols:\n",
    "        print(f'{stock} is in the dataframe')\n",
    "    else:\n",
    "        print(f'{stock} is NOT in the dataframe')"
   ]
  },
  {
   "cell_type": "code",
   "execution_count": 8,
   "id": "e01a74b0",
   "metadata": {},
   "outputs": [
    {
     "name": "stdout",
     "output_type": "stream",
     "text": [
      "50102\n",
      "12\n",
      "10\n",
      "44923\n"
     ]
    }
   ],
   "source": [
    "# filter the dataframe to only get data for the stocks in stock_to_check\n",
    "df_filtered = df_after_2015[df_after_2015['Stock_symbol'].isin(stock_to_check)]\n",
    "\n",
    "# number of rows\n",
    "print(df_filtered.shape[0])\n",
    "\n",
    "# number of columns\n",
    "print(df_filtered.shape[1])\n",
    "\n",
    "# number of unique companies\n",
    "print(df_filtered['Stock_symbol'].nunique())\n",
    "\n",
    "# unique articles\n",
    "print(df_filtered['Url'].nunique())"
   ]
  },
  {
   "cell_type": "code",
   "execution_count": 9,
   "id": "7b096bbd",
   "metadata": {},
   "outputs": [],
   "source": [
    "# save the dataframe to a csv\n",
    "df_filtered.to_csv('FNSPID/Stock_news/nasdaq_exteral_data_after_2015_filtered.csv', index=False)"
   ]
  }
 ],
 "metadata": {
  "kernelspec": {
   "display_name": "Python 3 (ipykernel)",
   "language": "python",
   "name": "python3"
  },
  "language_info": {
   "codemirror_mode": {
    "name": "ipython",
    "version": 3
   },
   "file_extension": ".py",
   "mimetype": "text/x-python",
   "name": "python",
   "nbconvert_exporter": "python",
   "pygments_lexer": "ipython3",
   "version": "3.9.6"
  }
 },
 "nbformat": 4,
 "nbformat_minor": 5
}
